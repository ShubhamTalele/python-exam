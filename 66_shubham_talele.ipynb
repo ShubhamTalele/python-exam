{
 "cells": [
  {
   "cell_type": "code",
   "execution_count": 68,
   "id": "dbbe3536-0c32-4da5-8d34-6d07f09e87ae",
   "metadata": {},
   "outputs": [
    {
     "name": "stdout",
     "output_type": "stream",
     "text": [
      "adglyz\n"
     ]
    }
   ],
   "source": [
    "import string\n",
    "\n",
    "def missing_chars(sentence):\n",
    "    sentence = sentence.lower()\n",
    "    alphabet_set= set(string.ascii_lowercase)\n",
    "    sentence_set = set(sentence)\n",
    "    missing_chars =alphabet_set - sentence_set\n",
    "    return ''.join(sorted(missing_chars))\n",
    "input_str= \"the quick brown fox jumps over the\"\n",
    "output =missing_chars(input_str)\n",
    "print(output) "
   ]
  },
  {
   "cell_type": "code",
   "execution_count": 71,
   "id": "de965565-867b-4481-800f-2ab07ba64e76",
   "metadata": {},
   "outputs": [
    {
     "name": "stdin",
     "output_type": "stream",
     "text": [
      "Enter product name:  milk\n",
      "Enter categories:  daily use\n",
      "Enter price:  35\n",
      "Enter quantity:  2\n"
     ]
    },
    {
     "name": "stdout",
     "output_type": "stream",
     "text": [
      "Product is added\n"
     ]
    },
    {
     "name": "stdin",
     "output_type": "stream",
     "text": [
      "Enter quantity sold:  1\n"
     ]
    }
   ],
   "source": [
    "\n",
    "def write_inventory_data(file_name):\n",
    "    with open(\"inventory_data.txt\", \"w\") as file:\n",
    "        product_name = input(\"Enter product name: \")\n",
    "        categories = input(\"Enter categories: \")\n",
    "        price = float(input(\"Enter price: \"))\n",
    "        quantity = int(input(\"Enter quantity: \"))\n",
    "        \n",
    "        file.write(f\"{product_name},{categories},{price},{quantity}\\n\")\n",
    "\n",
    "def read_inventory_data(file_name):\n",
    "    with open(file_name, \"r\") as file:\n",
    "        content = file.read()\n",
    "        return content\n",
    "\n",
    "def validate_product(price, quantity):\n",
    "    if price >= 0 and quantity >= 0:\n",
    "        print(\"Product is added\")\n",
    "        return True\n",
    "    else:\n",
    "        print(\"Product is not added\")\n",
    "        return False\n",
    "\n",
    "def write_sales_data(file_name, sales_file):\n",
    "    with open(file_name, \"r\") as file:\n",
    "        content = file.read()\n",
    "        product_details = content.strip().split(',')\n",
    "        price = float(product_details[2])\n",
    "        quantity = int(product_details[3])\n",
    "    \n",
    "    if validate_product(price, quantity):\n",
    "        sold_quantity = int(input(\"Enter quantity sold: \"))\n",
    "        remaining_quantity = quantity - sold_quantity\n",
    "        sales_revenue = sold_quantity * price\n",
    "        \n",
    "        with open(file_name, \"w\") as file:\n",
    "            file.write(f\"{product_details[0]},{product_details[1]},{price},{remaining_quantity}\\n\")\n",
    "        \n",
    "        with open(sales_file, \"a\") as sales:\n",
    "            sales.write(f\"{product_details[0]},{sold_quantity},{sales_revenue}\\n\")\n",
    "\n",
    "def generate_report(inventory_file, sales_file):\n",
    "    with open(inventory_file, \"r\") as inventory:\n",
    "        inventory_content = inventory.read()\n",
    "    \n",
    "    with open(sales_file, \"r\") as sales:\n",
    "        sales_content = sales.readlines()\n",
    "    \n",
    "\n",
    "\n",
    "# Sample usage\n",
    "write_inventory_data(\"inventory_data.txt\")\n",
    "write_sales_data(\"inventory_data.txt\", \"sales_data.txt\")\n",
    "generate_report(\"inventory_data.txt\", \"sales_data.txt\")\n",
    "\n",
    "\n",
    "\n",
    "\n",
    "\n",
    "              \n",
    "\n",
    "\n"
   ]
  },
  {
   "cell_type": "code",
   "execution_count": null,
   "id": "bbf1f0cc-6f58-46ae-8573-571584c3ae66",
   "metadata": {},
   "outputs": [],
   "source": []
  }
 ],
 "metadata": {
  "kernelspec": {
   "display_name": "Python 3 (ipykernel)",
   "language": "python",
   "name": "python3"
  },
  "language_info": {
   "codemirror_mode": {
    "name": "ipython",
    "version": 3
   },
   "file_extension": ".py",
   "mimetype": "text/x-python",
   "name": "python",
   "nbconvert_exporter": "python",
   "pygments_lexer": "ipython3",
   "version": "3.12.7"
  }
 },
 "nbformat": 4,
 "nbformat_minor": 5
}
